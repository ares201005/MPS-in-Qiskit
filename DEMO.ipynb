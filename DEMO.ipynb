{
 "cells": [
  {
   "cell_type": "markdown",
   "metadata": {},
   "source": [
    "# Preparing Matrix Product States (MPS) on a Quantum Computer\n",
    "\n",
    "Matrix Product States are a class of wavefunctions that have found widespread use in Quantum Physics and, to some extent, machine learning. This notebook is not meant to even touch on the vast literature on MPS (see https://arxiv.org/abs/1603.03039 for a marvelous review). Here, we merely show how to use the prepare_mps package in this repository.\n",
    "\n",
    "Given a set of $d \\times \\chi \\times \\chi$ (physical, left, right) matrices $A_1, \\dots A_N$ and a set of boundary vectors $\\phi_\\text{initial}$ and $\\phi_\\text{final}$ of size $\\chi$, our definition is as follows\n",
    "\n",
    "<img src=\"defn.png\" width=\"80%\">\n",
    "\n",
    "The function prepare_mps.MPS_to_circuit(A, phi_initial, phi_final) constructs a circuit that prepares the following:\n",
    "\n",
    "<img src=\"registers.png\" width=\"60%\">\n",
    "\n",
    "i.e., the first $n$ qubits are in a product state with the rest of the system. Those first $n$ qubits are ancilla qubits and they are guaranteed to be in the (normalized version of) $\\phi_\\text{initial}$. Here, $n$ is the logarithm of the bond dimension (rounded up).\n",
    "\n",
    "\\begin{equation*}\n",
    "n = \\log(\\chi)))\n",
    "\\end{equation*}\n",
    "\n",
    "Currently the bond dimension of all matrices has to be the same and a power of 2, but this is fixed easily by appending zeros to any given matrix. Let's look at some code:"
   ]
  },
  {
   "cell_type": "markdown",
   "metadata": {},
   "source": [
    "## Create a random MPS and verify that the output of the circuit is correct"
   ]
  },
  {
   "cell_type": "code",
   "execution_count": 1,
   "metadata": {},
   "outputs": [
    {
     "name": "stderr",
     "output_type": "stream",
     "text": [
      "/Users/henrikdreyer/qiskit-terra-master/qiskit/pulse/channels/pulse_channels.py:25: DeprecationWarning: Channels have been migrated. Please use `from qiskit.pulse.channels import X` rather than `from qiskit.pulse.channels.pulse_channels import X`.\n",
      "  DeprecationWarning)\n"
     ]
    },
    {
     "name": "stdout",
     "output_type": "stream",
     "text": [
      "The MPS is \n",
      " [0.27853458+3.61541549e-17j 0.27101406+6.83614144e-02j\n",
      " 0.26411109-2.69512568e-02j 0.25527158+5.46036540e-02j\n",
      " 0.27460159+2.95221901e-02j 0.25654656+9.68158273e-02j\n",
      " 0.25020076-7.92468697e-03j 0.24278339+6.85407310e-02j\n",
      " 0.22767876+6.10859664e-02j 0.20713217+1.14683315e-01j\n",
      " 0.22195296+3.37619589e-02j 0.19876344+9.87879577e-02j\n",
      " 0.22848696+8.55281603e-02j 0.19852224+1.38737348e-01j\n",
      " 0.21559479+5.10690628e-02j 0.19101486+1.13349695e-01j]\n",
      "The statevector produced by the circuit is \n",
      " [0.27853458+4.40286882e-17j 0.27101406+6.83614144e-02j\n",
      " 0.26411109-2.69512568e-02j 0.25527158+5.46036540e-02j\n",
      " 0.27460159+2.95221901e-02j 0.25654656+9.68158273e-02j\n",
      " 0.25020076-7.92468697e-03j 0.24278339+6.85407310e-02j\n",
      " 0.22767876+6.10859664e-02j 0.20713217+1.14683315e-01j\n",
      " 0.22195296+3.37619589e-02j 0.19876344+9.87879577e-02j\n",
      " 0.22848696+8.55281603e-02j 0.19852224+1.38737348e-01j\n",
      " 0.21559479+5.10690628e-02j 0.19101486+1.13349695e-01j]\n"
     ]
    }
   ],
   "source": [
    "import prepare_MPS as mps\n",
    "import numpy as np\n",
    "from qiskit import BasicAer, execute\n",
    "\n",
    "#Create Random MPS with size 4, bond dimension 4 and physical dimension 2 (qubits)\n",
    "N=4\n",
    "d=2\n",
    "chi=4\n",
    "phi_final=np.random.rand(chi)\n",
    "phi_initial=np.random.rand(chi)\n",
    "A=mps.create_random_tensors(N,chi,d)\n",
    "\n",
    "#Create the circuit. The 'reg' register corresponds to the 'MPS' register in the picture above\n",
    "qc, reg = mps.MPS_to_circuit(A, phi_initial, phi_final)\n",
    "\n",
    "#Run the circuit on the statevector simulator\n",
    "backend = BasicAer.get_backend(\"statevector_simulator\")\n",
    "job = execute(qc, backend)\n",
    "result = job.result()\n",
    "psi_out=result.get_statevector()\n",
    "\n",
    "#Contract out the ancilla with the known state\n",
    "psi_out=psi_out.reshape(d**N,chi)\n",
    "exp=psi_out.dot(phi_final)\n",
    "\n",
    "#Prepare the MPS classically\n",
    "thr,_=mps.create_statevector(A,phi_initial,phi_final,qiskit_ordering=True)\n",
    "\n",
    "#Compare the resulting vectors (fixing phase and normalization)\n",
    "exp=mps.normalize(mps.extract_phase(exp))\n",
    "thr=mps.normalize(mps.extract_phase(thr))\n",
    "\n",
    "print(\"The MPS is \\n {}\".format(thr))\n",
    "print(\"The statevector produced by the circuit is \\n {}\".format(exp))\n",
    "\n"
   ]
  },
  {
   "cell_type": "markdown",
   "metadata": {},
   "source": [
    "## Prepare a GHZ state\n",
    "The following is the standard $\\chi=2$ MPS representation of the GHZ state (showing non-zero entries only):\n",
    "\n",
    "\\begin{align*}\n",
    "    A^0_{0,0} &= 1 \\\\\n",
    "    A^1_{1,1} &= 1 \\\\\n",
    "    \\phi_\\text{initial} = \\phi_\\text{final} &= \\frac{1}{\\sqrt{2}}\\begin{pmatrix}\n",
    "    1 \\\\\n",
    "    1 \\\\\n",
    "\\end{pmatrix}\n",
    "\\end{align*}"
   ]
  },
  {
   "cell_type": "code",
   "execution_count": 2,
   "metadata": {},
   "outputs": [
    {
     "name": "stdout",
     "output_type": "stream",
     "text": [
      "\n",
      "Total counts are: {'00000': 481, '11111': 543}\n"
     ]
    }
   ],
   "source": [
    "from qiskit import ClassicalRegister\n",
    "\n",
    "N=5\n",
    "chi=2\n",
    "\n",
    "#The following is the standard representation of a GHZ state in terms of MPS\n",
    "phi_initial=np.array([1,1])\n",
    "phi_final=np.array([1,1])\n",
    "T=np.zeros((d,chi,chi))\n",
    "T[0,0,0]=1\n",
    "T[1,1,1]=1\n",
    "A=[]\n",
    "for _ in range(N):\n",
    "    A.append(T)\n",
    "    \n",
    "\n",
    "#Create the circuit, store the relevant wavefunction is register 'reg' and measure\n",
    "qc, reg = mps.MPS_to_circuit(A, phi_initial, phi_final)\n",
    "creg=ClassicalRegister(N)\n",
    "qc.add_register(creg)\n",
    "qc.measure(reg,creg)\n",
    "\n",
    "#Run on a simulator\n",
    "backend = BasicAer.get_backend(\"qasm_simulator\")\n",
    "job = execute(qc, backend)\n",
    "result = job.result()\n",
    "counts = result.get_counts(qc)\n",
    "print(\"\\nTotal counts are:\",counts)"
   ]
  },
  {
   "cell_type": "markdown",
   "metadata": {},
   "source": [
    "# Enhancements and Uses\n",
    "1) Extend to non-power-of-2 bond dimension\n",
    "\n",
    "2) Apply classical DMRG in Complete Active Space and then use this MPS as a starting point for VQE algorithm"
   ]
  }
 ],
 "metadata": {
  "kernelspec": {
   "display_name": "Python 3",
   "language": "python",
   "name": "python3"
  },
  "language_info": {
   "codemirror_mode": {
    "name": "ipython",
    "version": 3
   },
   "file_extension": ".py",
   "mimetype": "text/x-python",
   "name": "python",
   "nbconvert_exporter": "python",
   "pygments_lexer": "ipython3",
   "version": "3.7.4"
  }
 },
 "nbformat": 4,
 "nbformat_minor": 2
}
